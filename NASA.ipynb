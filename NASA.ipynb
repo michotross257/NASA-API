{
 "cells": [
  {
   "cell_type": "markdown",
   "metadata": {},
   "source": [
    "# NASA NeoWs API: Potentially Hazardous Asteroids\n",
    "\n",
    "Find out how many potentially hazardous asteroids were present each month in a given date range.\n",
    "\n",
    "---\n",
    "## Objective of NASA API Portal\n",
    "\n",
    "To make NASA data eminently accessible to application developers.\n",
    "\n",
    "## NeoWs API\n",
    "\n",
    "Provides near earth Asteroid information. Useful for anyone curious about astronomical happenings."
   ]
  },
  {
   "cell_type": "code",
   "execution_count": 1,
   "metadata": {
    "slideshow": {
     "slide_type": "slide"
    }
   },
   "outputs": [],
   "source": [
    "import calendar\n",
    "from collections import defaultdict\n",
    "from datetime import datetime, timedelta\n",
    "import os\n",
    "import requests\n",
    "\n",
    "import matplotlib.pyplot as plt\n",
    "import pandas as pd\n",
    "%matplotlib inline"
   ]
  },
  {
   "cell_type": "code",
   "execution_count": 2,
   "metadata": {
    "slideshow": {
     "slide_type": "slide"
    }
   },
   "outputs": [],
   "source": [
    "def get_date_range():\n",
    "    \"\"\"\n",
    "    Solicit user for start date and end date.\n",
    "    \n",
    "    Args:\n",
    "        None\n",
    "    \n",
    "    Returns:\n",
    "        tuple: tuple containing start date and end date\n",
    "    \"\"\"\n",
    "    \n",
    "    start_date = datetime.fromisoformat(input('Enter start date (YYYY-MM-DD): ')).date()\n",
    "    end_date = datetime.fromisoformat(input('Enter end date (YYYY-MM-DD): ')).date()\n",
    "    assert end_date > start_date, 'End date must be greater than start date.'\n",
    "    assert (end_date - start_date).days <= 720, 'Maximum date range is 2 years.'\n",
    "    \n",
    "    return start_date, end_date\n",
    "\n",
    "\n",
    "def _extract_data(near_earth_objects):\n",
    "    \"\"\"\n",
    "    Creates dictionary for asteroid properties \n",
    "    and fills dictionary with data from response.\n",
    "    \n",
    "    Args:\n",
    "        near_earth_objects(dict): dict of contents of 'near_earth_objects' key of response\n",
    "    \n",
    "    Returns:\n",
    "        dict: dict of useful portions of the data\n",
    "    \"\"\"\n",
    "    keys_to_check = [\n",
    "        'name',\n",
    "        'date',\n",
    "        'close_approach_data',\n",
    "        'estimated_diameter',\n",
    "        'is_potentially_hazardous_asteroid'\n",
    "    ]\n",
    "    # make an dictionary with keys of useful features\n",
    "    asteroid_dict = defaultdict(list)\n",
    "\n",
    "    # iterate through each day of the span of days selected\n",
    "    for date in near_earth_objects:\n",
    "        # iterate through the list of entries for the day\n",
    "        for entry in near_earth_objects[date]:\n",
    "            # iterate through each key of the dictionary making up each entry\n",
    "            for key in keys_to_check:\n",
    "                # seek out relevant portions of data\n",
    "                if key == 'close_approach_data':\n",
    "                    asteroid_dict['close_approach_date'].append(\n",
    "                        entry[key][0]['close_approach_date'])\n",
    "                    asteroid_dict['relative_velocity_mph'].append(\n",
    "                        entry[key][0]['relative_velocity']['miles_per_hour'])\n",
    "                    asteroid_dict['miss_distance_miles'].append(\n",
    "                        entry[key][0]['miss_distance']['miles'])\n",
    "                elif key == 'estimated_diameter':\n",
    "                    asteroid_dict['est_diameter_max_feet'].append(\n",
    "                        entry[key]['feet']['estimated_diameter_max'])\n",
    "                elif key == 'date':\n",
    "                    asteroid_dict['date'].append(date)\n",
    "                else:\n",
    "                    asteroid_dict[key].append(entry[key])\n",
    "    \n",
    "    return dict(asteroid_dict)\n",
    "\n",
    "\n",
    "def get_data_dictionary(start, end):\n",
    "    \"\"\"\n",
    "    Make API call and extract select data from response.\n",
    "    Start and end are at most 7 days apart.\n",
    "    \n",
    "    Args:\n",
    "        start(datetime.date): start date of query\n",
    "        end(datetime.date): end date of query\n",
    "        \n",
    "    Returns:\n",
    "        dict: dict of select portions of data from API response\n",
    "    \"\"\"\n",
    "    path = 'https://api.nasa.gov/neo/rest/v1/feed?start_date={}&end_date={}&api_key={}'\n",
    "    url = path.format(start, end, os.environ['NASA_NEOWS_API_KEY'])\n",
    "    \n",
    "    # get data\n",
    "    print('\\rQuerying for {} to {}...'.format(start, end), end='', flush=True)\n",
    "    rsp = requests.get(url)\n",
    "    # parse JSON reponse and grab the contents of 'near_earth_objects' key\n",
    "    neo = rsp.json()['near_earth_objects']\n",
    "    # make a filtered dictionary out of the contents of 'near_earth_objects' key\n",
    "    asteroid_dict = _extract_data(neo)\n",
    "    \n",
    "    return asteroid_dict\n",
    "\n",
    "\n",
    "def format_df(df):\n",
    "    \"\"\"\n",
    "    Various formatting steps to apply to dataFrame.\n",
    "    \n",
    "    Args:\n",
    "        df(pandas.DataFrame): unformatted dataFrame \n",
    "        \n",
    "    Returns:\n",
    "        df(pandas.DataFrame): formatted dataFrame\n",
    "    \"\"\"\n",
    "    df['year'], df['month'], df['day'] = zip(*df.close_approach_date.str.split('-'))\n",
    "    for col in ['year', 'month', 'day']:\n",
    "        df[col] = df[col].astype(int)\n",
    "    for col in ['est_diameter_max_feet', 'relative_velocity_mph', 'miss_distance_miles']:\n",
    "        df[col] = df[col].astype(float)\n",
    "    df.drop(columns=['date'], inplace=True)\n",
    "    df.rename(columns={'name': 'asteroid_name'}, inplace=True)\n",
    "    df.set_index('asteroid_name', inplace=True)\n",
    "    \n",
    "    return df\n",
    "\n",
    "\n",
    "def plot_df(df, start, end):\n",
    "    \"\"\"\n",
    "    Plot the dataFrame to show number of potentially hazardous asteroids per month/year.\n",
    "    \n",
    "    Args:\n",
    "        df(pandas.DataFrame): formatted dataFrame\n",
    "        start(datetime.date): start date of entire query range\n",
    "        end(datetime.date): end date of entire query range\n",
    "        \n",
    "    Returns:\n",
    "        None\n",
    "    \"\"\"\n",
    "    # filter for potentially hazardous asteroids\n",
    "    df = df[df['is_potentially_hazardous_asteroid']]\n",
    "    grouped_df = df.groupby(['year','month'])\n",
    "    groups = grouped_df.groups\n",
    "    grouped_df = grouped_df.size()\n",
    "    plot = grouped_df.plot(kind='bar', width=1.0, edgecolor='black', figsize=(10,10))\n",
    "    xticks = ['{} {}'.format(calendar.month_abbr[int(x[1])], x[0]) for x in groups.keys()]\n",
    "    title = 'Number of Potentially Hazardous Asteroids\\nPer Month From {} to {}'\n",
    "    title = title.format(start, end)\n",
    "    for i, v in enumerate(grouped_df.values):\n",
    "        plot.text(x=i, y=v+(max(grouped_df.values)/100), s=str(v))\n",
    "    plot.set_xticklabels(xticks, rotation=45)\n",
    "    plot.set_xlabel('')\n",
    "    plot.set_ylabel('Frequency\\n', fontsize=12)\n",
    "    plot.set_title(title, fontsize=16)"
   ]
  },
  {
   "cell_type": "code",
   "execution_count": 3,
   "metadata": {
    "scrolled": false,
    "slideshow": {
     "slide_type": "slide"
    }
   },
   "outputs": [
    {
     "name": "stdout",
     "output_type": "stream",
     "text": [
      "Enter start date (YYYY-MM-DD): 2019-01-01\n",
      "Enter end date (YYYY-MM-DD): 2019-05-31\n",
      "Querying for 2019-05-25 to 2019-05-31..."
     ]
    },
    {
     "data": {
      "text/html": [
       "<div>\n",
       "<style scoped>\n",
       "    .dataframe tbody tr th:only-of-type {\n",
       "        vertical-align: middle;\n",
       "    }\n",
       "\n",
       "    .dataframe tbody tr th {\n",
       "        vertical-align: top;\n",
       "    }\n",
       "\n",
       "    .dataframe thead th {\n",
       "        text-align: right;\n",
       "    }\n",
       "</style>\n",
       "<table border=\"1\" class=\"dataframe\">\n",
       "  <thead>\n",
       "    <tr style=\"text-align: right;\">\n",
       "      <th></th>\n",
       "      <th>relative_velocity_mph</th>\n",
       "      <th>miss_distance_miles</th>\n",
       "      <th>est_diameter_max_feet</th>\n",
       "    </tr>\n",
       "    <tr>\n",
       "      <th>is_potentially_hazardous_asteroid</th>\n",
       "      <th></th>\n",
       "      <th></th>\n",
       "      <th></th>\n",
       "    </tr>\n",
       "  </thead>\n",
       "  <tbody>\n",
       "    <tr>\n",
       "      <th>False</th>\n",
       "      <td>28,276</td>\n",
       "      <td>18,757,964</td>\n",
       "      <td>848</td>\n",
       "    </tr>\n",
       "    <tr>\n",
       "      <th>True</th>\n",
       "      <td>37,817</td>\n",
       "      <td>24,667,156</td>\n",
       "      <td>2,122</td>\n",
       "    </tr>\n",
       "  </tbody>\n",
       "</table>\n",
       "</div>"
      ],
      "text/plain": [
       "                                  relative_velocity_mph miss_distance_miles  \\\n",
       "is_potentially_hazardous_asteroid                                             \n",
       "False                                            28,276          18,757,964   \n",
       "True                                             37,817          24,667,156   \n",
       "\n",
       "                                  est_diameter_max_feet  \n",
       "is_potentially_hazardous_asteroid                        \n",
       "False                                               848  \n",
       "True                                              2,122  "
      ]
     },
     "metadata": {},
     "output_type": "display_data"
    },
    {
     "data": {
      "image/png": "[encoded data removed]",
      "text/plain": [
       "<Figure size 720x720 with 1 Axes>"
      ]
     },
     "metadata": {
      "needs_background": "light"
     },
     "output_type": "display_data"
    }
   ],
   "source": [
    "if __name__ == '__main__':\n",
    "    start_date, end_date = get_date_range()\n",
    "    date_difference = (end_date - start_date).days\n",
    "    num_weeks = int(date_difference/7)\n",
    "    num_days = date_difference%7\n",
    "    \n",
    "    start, end = start_date, start_date + timedelta(days=num_days)\n",
    "    asteroid_dfs = [pd.DataFrame(get_data_dictionary(start, end))]\n",
    "    for _ in range(num_weeks):\n",
    "        start, end = end + timedelta(days=1), end + timedelta(days=7)\n",
    "        asteroid_dfs.append(pd.DataFrame(get_data_dictionary(start, end)))\n",
    "\n",
    "    asteroid_df = pd.concat(asteroid_dfs, axis=0)\n",
    "    asteroid_df = format_df(asteroid_df)\n",
    "    # compare stats between potentially hazardous and non-potentially hazardous asteroids\n",
    "    display(\n",
    "        asteroid_df.groupby(\n",
    "        ['is_potentially_hazardous_asteroid']\n",
    "        ).mean()[[\n",
    "            'relative_velocity_mph',\n",
    "            'miss_distance_miles',\n",
    "            'est_diameter_max_feet'\n",
    "        ]].apply(lambda s: s.apply(lambda x: '{:,.0f}'.format(x)))\n",
    "    )\n",
    "    plot_df(asteroid_df, start_date, end_date)"
   ]
  }
 ],
 "metadata": {
  "celltoolbar": "Raw Cell Format",
  "kernelspec": {
   "display_name": "Python 3",
   "language": "python",
   "name": "python3"
  },
  "language_info": {
   "codemirror_mode": {
    "name": "ipython",
    "version": 3
   },
   "file_extension": ".py",
   "mimetype": "text/x-python",
   "name": "python",
   "nbconvert_exporter": "python",
   "pygments_lexer": "ipython3",
   "version": "3.7.6"
  },
  "varInspector": {
   "cols": {
    "lenName": 16,
    "lenType": 16,
    "lenVar": 40
   },
   "kernels_config": {
    "python": {
     "delete_cmd_postfix": "",
     "delete_cmd_prefix": "del ",
     "library": "var_list.py",
     "varRefreshCmd": "print(var_dic_list())"
    },
    "r": {
     "delete_cmd_postfix": ") ",
     "delete_cmd_prefix": "rm(",
     "library": "var_list.r",
     "varRefreshCmd": "cat(var_dic_list()) "
    }
   },
   "types_to_exclude": [
    "module",
    "function",
    "builtin_function_or_method",
    "instance",
    "_Feature"
   ],
   "window_display": false
  }
 },
 "nbformat": 4,
 "nbformat_minor": 2
}
