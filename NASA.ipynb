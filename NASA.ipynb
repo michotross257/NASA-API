{
 "cells": [
  {
   "cell_type": "markdown",
   "metadata": {},
   "source": [
    "# NASA NeoWs API: Potentially Hazardous Asteroids\n",
    "### Find out how many potentially hazardous asteroids were present each month in a given date range.\n",
    "---\n",
    "#### Objective of NASA API Portal:\n",
    "\n",
    "   To make NASA data eminently accessible to application developers.\n",
    "\n",
    "#### NeoWs API:\n",
    "\n",
    "   Provides near earth Asteroid information.<br>\n",
    "   Useful for anyone curious about astronomical happenings."
   ]
  },
  {
   "cell_type": "code",
   "execution_count": 1,
   "metadata": {
    "collapsed": true,
    "slideshow": {
     "slide_type": "slide"
    }
   },
   "outputs": [],
   "source": [
    "import pandas as pd\n",
    "import requests\n",
    "import datetime\n",
    "import matplotlib.pyplot as plt\n",
    "%matplotlib inline"
   ]
  },
  {
   "cell_type": "code",
   "execution_count": 2,
   "metadata": {
    "collapsed": true,
    "slideshow": {
     "slide_type": "slide"
    }
   },
   "outputs": [],
   "source": [
    "def are_dates_ok(start, end):\n",
    "    '''This function checks that start <= end. If so, returns True. If not, returns False.'''\n",
    "    if end <= start:\n",
    "        print('\\n\\nERROR: End date must be greater than start date!\\n')\n",
    "        return False\n",
    "    else:\n",
    "        return True\n",
    "    \n",
    "def get_date_range():\n",
    "    '''Solicit user for start date and end date. Returns start_date and end_date.'''\n",
    "    \n",
    "    # False if start_date > end_date, true otherwise. False by default.\n",
    "    dates_ok = False\n",
    "    \n",
    "    while not dates_ok:\n",
    "        print ('\\nStart date must be less than end date.\\n')\n",
    "    \n",
    "        # get start_date\n",
    "        start_year = int(input('Enter year of start date (YYYY): '))\n",
    "        start_month = int(input('Enter month of start date (MM): '))\n",
    "        start_day = int(input('Enter day of start date (DD): '))\n",
    "        \n",
    "        # get end_date\n",
    "        end_year = int(input('Enter year of end date (YYYY): '))\n",
    "        end_month = int(input('Enter month of end date (MM): '))\n",
    "        end_day = int(input('Enter day of end date (DD): '))\n",
    "        \n",
    "        # convert to datetime objects\n",
    "        start_date = datetime.date(start_year, start_month, start_day)\n",
    "        end_date = datetime.date(end_year, end_month, end_day)\n",
    "        \n",
    "        # check to see if start_date <= end_date\n",
    "        dates_ok = are_dates_ok(start_date, end_date)\n",
    "        \n",
    "    return (start_date, end_date)"
   ]
  },
  {
   "cell_type": "code",
   "execution_count": 3,
   "metadata": {
    "collapsed": true,
    "slideshow": {
     "slide_type": "slide"
    }
   },
   "outputs": [],
   "source": [
    "def extract_data(near_earth_objects):\n",
    "    '''Creates dictionary for asteroid properties \n",
    "    and fills dictionary with data from JSON response.'''\n",
    "    \n",
    "    # make an empty dictionary with keys of useful features\n",
    "    # picked from the contents of 'near_earth_objects' key\n",
    "    asteroid_dict = {'name': [], 'close_approach_date': [],\n",
    "                     'miss_distance_miles': [], 'relative_velocity_mph': [],\n",
    "                     'est_diameter_max_feet': [], 'is_potentially_hazardous_asteroid': []}\n",
    "\n",
    "    # iterate through each day of the span of days selected\n",
    "    for date in near_earth_objects:\n",
    "\n",
    "        # iterate through the list of entries for the day\n",
    "        for entry in near_earth_objects[date]:\n",
    "        \n",
    "            # iterate through each key of the dictionary making up each entry\n",
    "            for key in entry:\n",
    "            \n",
    "                # seek out only relevant portions of data\n",
    "                if (key in ['name','close_approach_data','relative_velocity',\n",
    "                            'estimated_diameter','is_potentially_hazardous_asteroid']):\n",
    "                \n",
    "                    # maneuver through the nested lists and dictionaries\n",
    "                    if (key == 'close_approach_data'):\n",
    "                        asteroid_dict['close_approach_date'].append(entry[key][0]\\\n",
    "                                                                    ['close_approach_date'])\n",
    "                        asteroid_dict['relative_velocity_mph'].append(entry[key][0]\\\n",
    "                                                                      ['relative_velocity']\\\n",
    "                                                                      ['miles_per_hour'])\n",
    "                        asteroid_dict['miss_distance_miles'].append(entry[key][0]\\\n",
    "                                                                    ['miss_distance']\\\n",
    "                                                                    ['miles'])\n",
    "                    elif (key == 'estimated_diameter'):\n",
    "                        asteroid_dict['est_diameter_max_feet'].append(entry[key]\\\n",
    "                                                                      ['feet']\\\n",
    "                                                                      ['estimated_diameter_max'])\n",
    "                    else:\n",
    "                        asteroid_dict[key].append(entry[key])\n",
    "    \n",
    "    return asteroid_dict"
   ]
  },
  {
   "cell_type": "code",
   "execution_count": 4,
   "metadata": {
    "collapsed": true,
    "slideshow": {
     "slide_type": "slide"
    }
   },
   "outputs": [],
   "source": [
    "def get_data_dictionary(start, end):\n",
    "    '''Takes in start date and end date. These dates are ensured to be properly formatted with a\n",
    "    leading zero and then a url is made using these dates. The API request is sent using the url\n",
    "    and the response is formatted in JSON and then passed to a function that will create a \n",
    "    dictionary using the response. Function returns the complete dictionary.'''\n",
    "    \n",
    "    # make start_date and end_date parameters\n",
    "    start_date_str = str(start.year)+ '-' +str(start.month).zfill(2)+ '-' +str(start.day).zfill(2)\n",
    "    end_date_str = str(end.year) + '-' + str(end.month).zfill(2) + '-' + str(end.day).zfill(2)\n",
    "\n",
    "    # combine elements to make complete URL\n",
    "    path = 'https://api.nasa.gov/neo/rest/v1/feed?'\n",
    "    search_time_span = 'start_date=' + start_date_str + '&end_date=' + end_date_str\n",
    "    api_key = '&api_key=hzN9EE6vqZlamYgP1upHISVIxvXEQo5WKxa174ez'\n",
    "    url = path + search_time_span + api_key\n",
    "    \n",
    "    # get data\n",
    "    response = requests.get(url)\n",
    "    \n",
    "    # parse JSON reponse and grab the contents of 'near_earth_objects' key\n",
    "    near_earth_object = response.json()['near_earth_objects']\n",
    "    \n",
    "    # make a filtered dictionary out of the contents of 'near_earth_objects' key\n",
    "    asteroid_dict = extract_data(near_earth_object)\n",
    "    \n",
    "    return asteroid_dict"
   ]
  },
  {
   "cell_type": "code",
   "execution_count": 5,
   "metadata": {
    "collapsed": true
   },
   "outputs": [],
   "source": [
    "def format_dataFrame(df):\n",
    "    # change data type of columns\n",
    "    df['est_diameter_max_feet'] = df.est_diameter_max_feet.astype(float)\n",
    "    df['relative_velocity_mph'] = df.relative_velocity_mph.astype(float)\n",
    "    df['miss_distance_miles'] = df.miss_distance_miles.astype(float)\n",
    "\n",
    "    # given a date of the format YYYY-MM-DD, return the month converted to an int\n",
    "    df['close_approach_month'] = df.close_approach_date.apply(lambda x: int(x.split('-')[1]))\n",
    "    # given a date of the format YYYY-MM-DD, return (YYYY, MM)\n",
    "    df['close_approach_month_year'] = df.close_approach_date.apply(lambda x: (x.split('-')[0],\\\n",
    "                                                                              x.split('-')[1]))\n",
    "    # given a name, return only the value inside the parentheses\n",
    "    df['asteroid_name'] = df.name.apply(lambda x: x[(x.index('(') + 1): x.index(')')])\n",
    "\n",
    "    # make name column the index column for ease of row identification according to asteroid name\n",
    "    df.set_index('asteroid_name', inplace=True)\n",
    "    \n",
    "    return df"
   ]
  },
  {
   "cell_type": "code",
   "execution_count": 6,
   "metadata": {},
   "outputs": [],
   "source": [
    "def plot_dataFrame(df):\n",
    "    # filter for potentially hazardous asteroids\n",
    "    filtered_df = df[df['is_potentially_hazardous_asteroid']==True]\n",
    "\n",
    "    # plot the data\n",
    "    size_by_month = filtered_df.groupby('close_approach_month_year').size()\\\n",
    "                                        .plot(kind='bar',figsize= (10,10))\n",
    "\n",
    "    monthDict = {1:'JAN',2:'FEB',3:'MAR',4:'APR',5:'MAY',6:'JUN',\n",
    "                 7:'JUL',8:'AUG',9:'SEP',10:'OCT',11:'NOV',12:'DEC'}\n",
    "    xTickLabels = [monthDict[int(x.get_text().split(' ')[1].strip(')'))] + ' ' +\\\n",
    "                   x.get_text().split(' ')[0].strip('(').strip(',')\\\n",
    "                   for x in size_by_month.get_xticklabels()]\n",
    "    \n",
    "    size_by_month.grid(True, linestyle='--')\n",
    "    size_by_month.set_xticklabels(xTickLabels)\n",
    "    size_by_month.set_xlabel('\\nMonth')\n",
    "    size_by_month.set_ylabel('Frequency')\n",
    "    size_by_month.set_title('Number of Potentially Hazardous Asteroids\\\n",
    "                            \\nPer Month From {}-{}-{} to {}-{}-{}'\\\n",
    "                            .format(START.month,START.day,START.year,END.month,END.day,END.year))"
   ]
  },
  {
   "cell_type": "code",
   "execution_count": 7,
   "metadata": {
    "collapsed": true,
    "slideshow": {
     "slide_type": "slide"
    }
   },
   "outputs": [],
   "source": [
    "def main():\n",
    "    # variables to keep record of start_date and end_date\n",
    "    global START, END\n",
    "    # get start_date and end_date\n",
    "    start, end = get_date_range()\n",
    "    START, END = start, end\n",
    "    # get difference between dates\n",
    "    date_difference = end - start\n",
    "\n",
    "    # if the difference in days <= 7\n",
    "    if date_difference.days <= 7:\n",
    "        returnDict = get_data_dictionary(start, end)\n",
    "        asteroid_dataFrame = pd.DataFrame(returnDict)\n",
    "\n",
    "    # the difference in days > 7\n",
    "    else:\n",
    "        # create empty dataFrame. This will be our primary dataFrame\n",
    "        asteroid_dataFrame = pd.DataFrame()\n",
    "        # create datetime object 7 days greater than start_date\n",
    "        tempDate = start + datetime.timedelta(7)\n",
    "\n",
    "        while start != end:\n",
    "            returnDict = get_data_dictionary(start, tempDate)\n",
    "            tempDataFrame = pd.DataFrame(returnDict)\n",
    "            \n",
    "            # add tempDataFrame to primary dataFrame\n",
    "            asteroid_dataFrame = asteroid_dataFrame.append(tempDataFrame)\n",
    "\n",
    "            start = tempDate\n",
    "            date_difference = end - tempDate\n",
    "\n",
    "            # if the difference in days <= 7, then we are 7 days or less away from end_date\n",
    "            if date_difference.days <= 7:\n",
    "                tempDate = end\n",
    "            # we are not within 7 days of end_date and need to keep querying in 7 day blocks\n",
    "            else:\n",
    "                tempDate = tempDate + datetime.timedelta(7)\n",
    "\n",
    "    asteroid_dataFrame = format_dataFrame(asteroid_dataFrame)\n",
    "    plot_dataFrame(asteroid_dataFrame)"
   ]
  },
  {
   "cell_type": "code",
   "execution_count": 8,
   "metadata": {
    "slideshow": {
     "slide_type": "slide"
    }
   },
   "outputs": [
    {
     "name": "stdout",
     "output_type": "stream",
     "text": [
      "\n",
      "Start date must be less than end date.\n",
      "\n",
      "Enter year of start date (YYYY): 2017\n",
      "Enter month of start date (MM): 01\n",
      "Enter day of start date (DD): 01\n",
      "Enter year of end date (YYYY): 2018\n",
      "Enter month of end date (MM): 01\n",
      "Enter day of end date (DD): 31\n"
     ]
    },
    {
     "data": {
      "image/png": "[encoded data removed]",
      "text/plain": [
       "<matplotlib.figure.Figure at 0x7f5caa288b00>"
      ]
     },
     "metadata": {},
     "output_type": "display_data"
    }
   ],
   "source": [
    "if __name__ == '__main__':\n",
    "    main()"
   ]
  }
 ],
 "metadata": {
  "celltoolbar": "Slideshow",
  "kernelspec": {
   "display_name": "Python 3",
   "language": "python",
   "name": "python3"
  },
  "language_info": {
   "codemirror_mode": {
    "name": "ipython",
    "version": 3
   },
   "file_extension": ".py",
   "mimetype": "text/x-python",
   "name": "python",
   "nbconvert_exporter": "python",
   "pygments_lexer": "ipython3",
   "version": "3.5.2"
  },
  "varInspector": {
   "cols": {
    "lenName": 16,
    "lenType": 16,
    "lenVar": 40
   },
   "kernels_config": {
    "python": {
     "delete_cmd_postfix": "",
     "delete_cmd_prefix": "del ",
     "library": "var_list.py",
     "varRefreshCmd": "print(var_dic_list())"
    },
    "r": {
     "delete_cmd_postfix": ") ",
     "delete_cmd_prefix": "rm(",
     "library": "var_list.r",
     "varRefreshCmd": "cat(var_dic_list()) "
    }
   },
   "types_to_exclude": [
    "module",
    "function",
    "builtin_function_or_method",
    "instance",
    "_Feature"
   ],
   "window_display": false
  }
 },
 "nbformat": 4,
 "nbformat_minor": 2
}
